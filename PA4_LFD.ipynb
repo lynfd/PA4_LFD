{
 "cells": [
  {
   "cell_type": "markdown",
   "id": "fd185be5",
   "metadata": {},
   "source": [
    "# Programming Assignment 4\n",
    "### Lyn Detwiler, CS-150-1, Version 3.3.2"
   ]
  },
  {
   "cell_type": "code",
   "execution_count": 2,
   "id": "23531df0",
   "metadata": {},
   "outputs": [
    {
     "name": "stdout",
     "output_type": "stream",
     "text": [
      "{'town': 'varos', 'learned': 'megtanult', 'parallel': 'parhuzamos', 'self': 'sajatmaga', 'dark': 'sotet', 'air': 'levego', 'degree': 'fok', 'wooden spoon': 'fakanal', 'pie': 'pite', 'escape': 'megszabadul', 'ignorant': 'tudatlan', 'dead': 'halott', 'roll': 'kifli', 'pollution': 'kornyezetszennyezes', 'harmony': 'harmonia', 'rough': 'durva', 'concern': 'aggodalom', 'bake': 'sut', 'action': 'akcio', 'green': 'zold'}\n"
     ]
    }
   ],
   "source": [
    "english_hungarian={'town':'varos','learned':'megtanult','parallel':'parhuzamos','self':'sajatmaga','dark':'sotet',\n",
    "                   'air':'levego','degree':'fok','wooden spoon':'fakanal','pie':'pite','escape':'megszabadul',\n",
    "                   'ignorant':'tudatlan','dead':'halott','roll':'kifli','pollution':'kornyezetszennyezes',\n",
    "                   'harmony':'harmonia','rough':'durva','concern':'aggodalom','bake':'sut','action':'akcio','green':'zold'}\n",
    "print(english_hungarian)"
   ]
  },
  {
   "cell_type": "code",
   "execution_count": 3,
   "id": "75b1cf73",
   "metadata": {},
   "outputs": [
    {
     "name": "stdout",
     "output_type": "stream",
     "text": [
      "Enter a word in english and the code will provide the word in Hungarian. Enter 0 to quit.roll\n",
      "The word ROLL in Hungarian is KIFLI\n",
      "Enter a word in english and the code will provide the word in Hungarian. Enter 0 to quit.pie\n",
      "The word PIE in Hungarian is PITE\n",
      "Enter a word in english and the code will provide the word in Hungarian. Enter 0 to quit.fork\n",
      "Your word is not in the dictionary.\n",
      "Enter a word in english and the code will provide the word in Hungarian. Enter 0 to quit.harmony\n",
      "The word HARMONY in Hungarian is HARMONIA\n",
      "Enter a word in english and the code will provide the word in Hungarian. Enter 0 to quit.blink\n",
      "Your word is not in the dictionary.\n",
      "Enter a word in english and the code will provide the word in Hungarian. Enter 0 to quit.light\n",
      "Your word is not in the dictionary.\n",
      "Enter a word in english and the code will provide the word in Hungarian. Enter 0 to quit.0\n"
     ]
    }
   ],
   "source": [
    "prompt=\"Enter a word in english and the code will provide the word in Hungarian. Enter 0 to quit.\"\n",
    "word=\"\"\n",
    "active=True\n",
    "while active:\n",
    "    word=input(prompt)\n",
    "    if word=='0':\n",
    "        active=False\n",
    "    elif english_hungarian.get(word)==None:\n",
    "        print(\"Your word is not in the dictionary.\")\n",
    "    else:\n",
    "        print(\"The word\",word.upper(),\"in Hungarian is\",(english_hungarian.get(word)).upper())"
   ]
  },
  {
   "cell_type": "code",
   "execution_count": 2,
   "id": "3bfc9d9a",
   "metadata": {},
   "outputs": [
    {
     "name": "stdout",
     "output_type": "stream",
     "text": [
      "{1: 30, 2: 30, 3: 30, 4: 30, 5: 28, 6: 29, 7: 29, 8: 28, 9: 28, 10: 28, 11: 27, 12: 27, 13: 27, 14: 27, 15: 27, 16: 27, 17: 26, 18: 28, 19: 27, 20: 29, 21: 28, 22: 27, 23: 26, 24: 27, 25: 27, 26: 26, 27: 26, 28: 25, 29: 25, 30: 25}\n"
     ]
    }
   ],
   "source": [
    "dataf={1:87,2:86,3:87,4:87,5:84,6:85,7:85,8:84,9:83,10:83,11:82,12:82,13:82,14:82,15:82,16:82,17:80,18:83,19:82,20:85,\n",
    "      21:84,22:81,23:80,24:81,25:82,26:80,27:79,28:78,29:77,30:78}\n",
    "datac={}\n",
    "for data,value in dataf.items():\n",
    "    conversion=((value-32)*5)//9\n",
    "    if data not in datac.keys():\n",
    "        datac[data]=conversion\n",
    "print(datac)"
   ]
  },
  {
   "cell_type": "code",
   "execution_count": 13,
   "id": "916a5c73",
   "metadata": {},
   "outputs": [
    {
     "name": "stdout",
     "output_type": "stream",
     "text": [
      "{1: 1, 2: 4, 3: 9, 4: 16, 5: 25, 6: 36, 7: 49, 8: 64, 9: 81, 10: 100, 11: 121, 12: 144, 13: 169, 14: 196, 15: 225}\n"
     ]
    }
   ],
   "source": [
    "squared=dict()\n",
    "for x in range(1,16):\n",
    "    squared[x]=x**2\n",
    "print(squared)"
   ]
  },
  {
   "cell_type": "code",
   "execution_count": null,
   "id": "cc7fca87",
   "metadata": {},
   "outputs": [],
   "source": []
  }
 ],
 "metadata": {
  "kernelspec": {
   "display_name": "Python 3 (ipykernel)",
   "language": "python",
   "name": "python3"
  },
  "language_info": {
   "codemirror_mode": {
    "name": "ipython",
    "version": 3
   },
   "file_extension": ".py",
   "mimetype": "text/x-python",
   "name": "python",
   "nbconvert_exporter": "python",
   "pygments_lexer": "ipython3",
   "version": "3.9.12"
  }
 },
 "nbformat": 4,
 "nbformat_minor": 5
}
